{
 "cells": [
  {
   "cell_type": "code",
   "execution_count": 1,
   "metadata": {},
   "outputs": [],
   "source": [
    "import tensorflow as tf"
   ]
  },
  {
   "cell_type": "code",
   "execution_count": 2,
   "metadata": {},
   "outputs": [],
   "source": [
    "from tensorflow.keras.datasets import reuters"
   ]
  },
  {
   "cell_type": "code",
   "execution_count": 4,
   "metadata": {},
   "outputs": [],
   "source": [
    "from tensorflow.keras import models,layers,optimizers,utils"
   ]
  },
  {
   "cell_type": "code",
   "execution_count": 5,
   "metadata": {},
   "outputs": [],
   "source": [
    "import numpy as np\n",
    "import matplotlib.pyplot as plt"
   ]
  },
  {
   "cell_type": "code",
   "execution_count": 8,
   "metadata": {},
   "outputs": [
    {
     "name": "stdout",
     "output_type": "stream",
     "text": [
      "Downloading data from https://storage.googleapis.com/tensorflow/tf-keras-datasets/reuters.npz\n",
      "2113536/2110848 [==============================] - 4s 2us/step\n"
     ]
    }
   ],
   "source": [
    "(train_data,train_labels),(test_data,test_labels)=reuters.load_data(num_words=1000)"
   ]
  },
  {
   "cell_type": "code",
   "execution_count": 9,
   "metadata": {},
   "outputs": [
    {
     "name": "stdout",
     "output_type": "stream",
     "text": [
      "2246\n",
      "8982\n"
     ]
    }
   ],
   "source": [
    "print(len(test_data))\n",
    "print(len(train_data))"
   ]
  },
  {
   "cell_type": "code",
   "execution_count": 10,
   "metadata": {},
   "outputs": [
    {
     "data": {
      "text/plain": [
       "[1,\n",
       " 2,\n",
       " 2,\n",
       " 8,\n",
       " 43,\n",
       " 10,\n",
       " 447,\n",
       " 5,\n",
       " 25,\n",
       " 207,\n",
       " 270,\n",
       " 5,\n",
       " 2,\n",
       " 111,\n",
       " 16,\n",
       " 369,\n",
       " 186,\n",
       " 90,\n",
       " 67,\n",
       " 7,\n",
       " 89,\n",
       " 5,\n",
       " 19,\n",
       " 102,\n",
       " 6,\n",
       " 19,\n",
       " 124,\n",
       " 15,\n",
       " 90,\n",
       " 67,\n",
       " 84,\n",
       " 22,\n",
       " 482,\n",
       " 26,\n",
       " 7,\n",
       " 48,\n",
       " 4,\n",
       " 49,\n",
       " 8,\n",
       " 864,\n",
       " 39,\n",
       " 209,\n",
       " 154,\n",
       " 6,\n",
       " 151,\n",
       " 6,\n",
       " 83,\n",
       " 11,\n",
       " 15,\n",
       " 22,\n",
       " 155,\n",
       " 11,\n",
       " 15,\n",
       " 7,\n",
       " 48,\n",
       " 9,\n",
       " 2,\n",
       " 2,\n",
       " 504,\n",
       " 6,\n",
       " 258,\n",
       " 6,\n",
       " 272,\n",
       " 11,\n",
       " 15,\n",
       " 22,\n",
       " 134,\n",
       " 44,\n",
       " 11,\n",
       " 15,\n",
       " 16,\n",
       " 8,\n",
       " 197,\n",
       " 2,\n",
       " 90,\n",
       " 67,\n",
       " 52,\n",
       " 29,\n",
       " 209,\n",
       " 30,\n",
       " 32,\n",
       " 132,\n",
       " 6,\n",
       " 109,\n",
       " 15,\n",
       " 17,\n",
       " 12]"
      ]
     },
     "execution_count": 10,
     "metadata": {},
     "output_type": "execute_result"
    }
   ],
   "source": [
    "train_data[0]"
   ]
  },
  {
   "cell_type": "code",
   "execution_count": 11,
   "metadata": {},
   "outputs": [],
   "source": [
    "def vectorize_sequences(sequences,dimension=1000):\n",
    "    results=np.zeros((len(sequences),dimension))\n",
    "    for i,sequence in enumerate(sequences):\n",
    "        results[i,sequence]=1\n",
    "    return results\n",
    "x_train=vectorize_sequences(train_data)\n",
    "x_test=vectorize_sequences(test_data)\n"
   ]
  },
  {
   "cell_type": "code",
   "execution_count": 15,
   "metadata": {},
   "outputs": [],
   "source": [
    "def to_one_hot(labels,dimension=46):\n",
    "    results=np.zeros((len(labels),dimension))\n",
    "    for i,label in enumerate(labels):\n",
    "        results[i,label]=1\n",
    "    return results\n",
    "\n",
    "one_hot_train_labels=to_one_hot(train_labels)\n",
    "one_hot_test_labels=to_one_hot(test_labels)"
   ]
  },
  {
   "cell_type": "code",
   "execution_count": 16,
   "metadata": {},
   "outputs": [],
   "source": [
    "#or hot encode with library\n",
    "one_hot_train_labels=utils.to_categorical(train_labels)\n",
    "one_hot_test_labels=utils.to_categorical(test_labels)"
   ]
  },
  {
   "cell_type": "code",
   "execution_count": 18,
   "metadata": {},
   "outputs": [],
   "source": [
    "x_val=x_train[:1000]\n",
    "partial_x_train=x_train[1000:]\n",
    "y_val=one_hot_train_labels[:1000]\n",
    "partial_y_train=one_hot_train_labels[1000:]"
   ]
  },
  {
   "cell_type": "markdown",
   "metadata": {},
   "source": [
    "# Building Network"
   ]
  },
  {
   "cell_type": "code",
   "execution_count": 27,
   "metadata": {},
   "outputs": [],
   "source": [
    "model=models.Sequential()\n",
    "model.add(layers.Dense(64,activation=\"relu\" ,input_shape=(1000,)))\n",
    "model.add(layers.Dense(64,activation=\"relu\"))\n",
    "model.add(layers.Dense(46,activation=\"softmax\"))"
   ]
  },
  {
   "cell_type": "code",
   "execution_count": 28,
   "metadata": {},
   "outputs": [
    {
     "name": "stdout",
     "output_type": "stream",
     "text": [
      "Train on 7982 samples, validate on 1000 samples\n",
      "Epoch 1/20\n",
      "7982/7982 [==============================] - 2s 296us/sample - loss: 2.8739 - acc: 0.4539 - val_loss: 2.0027 - val_acc: 0.5810\n",
      "Epoch 2/20\n",
      "7982/7982 [==============================] - 0s 19us/sample - loss: 1.7230 - acc: 0.6351 - val_loss: 1.5375 - val_acc: 0.6470\n",
      "Epoch 3/20\n",
      "7982/7982 [==============================] - 0s 17us/sample - loss: 1.4037 - acc: 0.6867 - val_loss: 1.3579 - val_acc: 0.6870\n",
      "Epoch 4/20\n",
      "7982/7982 [==============================] - 0s 17us/sample - loss: 1.2332 - acc: 0.7204 - val_loss: 1.2593 - val_acc: 0.7130\n",
      "Epoch 5/20\n",
      "7982/7982 [==============================] - 0s 18us/sample - loss: 1.1109 - acc: 0.7502 - val_loss: 1.1716 - val_acc: 0.7470\n",
      "Epoch 6/20\n",
      "7982/7982 [==============================] - 0s 18us/sample - loss: 1.0060 - acc: 0.7762 - val_loss: 1.1191 - val_acc: 0.7460\n",
      "Epoch 7/20\n",
      "7982/7982 [==============================] - 0s 18us/sample - loss: 0.9231 - acc: 0.7898 - val_loss: 1.0968 - val_acc: 0.7590\n",
      "Epoch 8/20\n",
      "7982/7982 [==============================] - 0s 20us/sample - loss: 0.8468 - acc: 0.8037 - val_loss: 1.0485 - val_acc: 0.7610\n",
      "Epoch 9/20\n",
      "7982/7982 [==============================] - 0s 20us/sample - loss: 0.7774 - acc: 0.8181 - val_loss: 1.0106 - val_acc: 0.7700\n",
      "Epoch 10/20\n",
      "7982/7982 [==============================] - 0s 20us/sample - loss: 0.7186 - acc: 0.8316 - val_loss: 0.9725 - val_acc: 0.7760\n",
      "Epoch 11/20\n",
      "7982/7982 [==============================] - 0s 19us/sample - loss: 0.6667 - acc: 0.8419 - val_loss: 0.9647 - val_acc: 0.7800\n",
      "Epoch 12/20\n",
      "7982/7982 [==============================] - 0s 19us/sample - loss: 0.6146 - acc: 0.8582 - val_loss: 0.9470 - val_acc: 0.7860\n",
      "Epoch 13/20\n",
      "7982/7982 [==============================] - 0s 19us/sample - loss: 0.5717 - acc: 0.8678 - val_loss: 0.9394 - val_acc: 0.7840\n",
      "Epoch 14/20\n",
      "7982/7982 [==============================] - 0s 19us/sample - loss: 0.5307 - acc: 0.8780 - val_loss: 0.9394 - val_acc: 0.7820\n",
      "Epoch 15/20\n",
      "7982/7982 [==============================] - 0s 19us/sample - loss: 0.4945 - acc: 0.8861 - val_loss: 0.9173 - val_acc: 0.7950\n",
      "Epoch 16/20\n",
      "7982/7982 [==============================] - 0s 19us/sample - loss: 0.4638 - acc: 0.8894 - val_loss: 0.9134 - val_acc: 0.7970\n",
      "Epoch 17/20\n",
      "7982/7982 [==============================] - 0s 19us/sample - loss: 0.4324 - acc: 0.8995 - val_loss: 0.9090 - val_acc: 0.7970\n",
      "Epoch 18/20\n",
      "7982/7982 [==============================] - 0s 19us/sample - loss: 0.4061 - acc: 0.9037 - val_loss: 0.9233 - val_acc: 0.7920\n",
      "Epoch 19/20\n",
      "7982/7982 [==============================] - 0s 19us/sample - loss: 0.3761 - acc: 0.9105 - val_loss: 0.9599 - val_acc: 0.7830\n",
      "Epoch 20/20\n",
      "7982/7982 [==============================] - 0s 19us/sample - loss: 0.3623 - acc: 0.9126 - val_loss: 0.9323 - val_acc: 0.7950\n"
     ]
    }
   ],
   "source": [
    "model.compile(optimizer=\"rmsprop\",loss='categorical_crossentropy',metrics=['acc'])\n",
    "history=model.fit(partial_x_train,partial_y_train,epochs=20,batch_size=512,validation_data=(x_val,y_val))\n"
   ]
  },
  {
   "cell_type": "code",
   "execution_count": 43,
   "metadata": {},
   "outputs": [
    {
     "data": {
      "text/plain": [
       "<function matplotlib.pyplot.show(*args, **kw)>"
      ]
     },
     "execution_count": 43,
     "metadata": {},
     "output_type": "execute_result"
    },
    {
     "data": {
      "image/png": "[encoded data removed]",
      "text/plain": [
       "<Figure size 432x288 with 1 Axes>"
      ]
     },
     "metadata": {
      "needs_background": "light"
     },
     "output_type": "display_data"
    }
   ],
   "source": [
    "history_dict=history.history\n",
    "loss_values=history_dict['loss']\n",
    "val_loss_values=history_dict['val_loss']\n",
    "epochs=range(1,len(loss_values)+1)\n",
    "plt.plot(epochs,loss_values,'bo',label=\"Training Loss\")\n",
    "plt.plot(epochs,val_loss_values,'b',label=\"Validation Loss\")\n",
    "plt.title('Training and Validation Loss')\n",
    "plt.xlabel(\"Epochs\")\n",
    "plt.ylabel(\"Loss\")\n",
    "plt.legend()\n",
    "plt.show\n",
    "\n"
   ]
  },
  {
   "cell_type": "code",
   "execution_count": 41,
   "metadata": {},
   "outputs": [
    {
     "data": {
      "image/png": "[encoded data removed]",
      "text/plain": [
       "<Figure size 432x288 with 1 Axes>"
      ]
     },
     "metadata": {
      "needs_background": "light"
     },
     "output_type": "display_data"
    }
   ],
   "source": [
    "acc_values=history_dict['acc']\n",
    "val_acc_values=history_dict['val_acc']\n",
    "plt.plot(epochs,acc_values,'bo',label=\"Training acc\")\n",
    "plt.plot(epochs,val_acc_values,'b',label=\"Validation Accuracy\")\n",
    "plt.title('Training and Validation Loss')\n",
    "plt.xlabel(\"Epochs\")\n",
    "plt.ylabel(\"Accuracy\")\n",
    "plt.legend()\n",
    "plt.show()"
   ]
  },
  {
   "cell_type": "code",
   "execution_count": 45,
   "metadata": {},
   "outputs": [
    {
     "name": "stdout",
     "output_type": "stream",
     "text": [
      "INFO:tensorflow:Assets written to: Reuter\\assets\n"
     ]
    }
   ],
   "source": [
    "model.save(\"Reuter\")"
   ]
  },
  {
   "cell_type": "code",
   "execution_count": 46,
   "metadata": {},
   "outputs": [],
   "source": [
    "prediction=model.predict(x_test)"
   ]
  },
  {
   "cell_type": "code",
   "execution_count": 47,
   "metadata": {},
   "outputs": [
    {
     "data": {
      "text/plain": [
       "array([[1.07497417e-05, 7.53183940e-06, 2.93975631e-07, ...,\n",
       "        6.04410661e-06, 4.88765352e-07, 1.24257326e-07],\n",
       "       [5.40557194e-05, 3.22569598e-04, 1.65876688e-03, ...,\n",
       "        1.58423546e-07, 1.67542987e-06, 3.91085314e-06],\n",
       "       [5.93625737e-05, 9.88162339e-01, 2.07675286e-04, ...,\n",
       "        2.91005085e-06, 3.76892713e-05, 3.62189166e-05],\n",
       "       ...,\n",
       "       [9.50779649e-05, 2.31522165e-04, 1.01169535e-04, ...,\n",
       "        4.11271030e-05, 8.97241989e-05, 1.10154297e-05],\n",
       "       [1.42799842e-03, 1.38364721e-03, 1.42155378e-03, ...,\n",
       "        2.55449704e-04, 6.31066068e-05, 3.51606795e-05],\n",
       "       [1.98060690e-04, 2.51824111e-01, 2.38882322e-02, ...,\n",
       "        1.31479406e-04, 1.21681485e-02, 2.63209315e-03]], dtype=float32)"
      ]
     },
     "execution_count": 47,
     "metadata": {},
     "output_type": "execute_result"
    }
   ],
   "source": [
    "prediction"
   ]
  },
  {
   "cell_type": "code",
   "execution_count": 48,
   "metadata": {},
   "outputs": [
    {
     "data": {
      "text/plain": [
       "(2246, 46)"
      ]
     },
     "execution_count": 48,
     "metadata": {},
     "output_type": "execute_result"
    }
   ],
   "source": [
    "prediction.shape"
   ]
  },
  {
   "cell_type": "code",
   "execution_count": 49,
   "metadata": {},
   "outputs": [
    {
     "data": {
      "text/plain": [
       "1.0000002"
      ]
     },
     "execution_count": 49,
     "metadata": {},
     "output_type": "execute_result"
    }
   ],
   "source": [
    "prediction[0].sum()"
   ]
  },
  {
   "cell_type": "code",
   "execution_count": 51,
   "metadata": {},
   "outputs": [
    {
     "data": {
      "text/plain": [
       "3"
      ]
     },
     "execution_count": 51,
     "metadata": {},
     "output_type": "execute_result"
    }
   ],
   "source": [
    "prediction[0].argmax()"
   ]
  },
  {
   "cell_type": "code",
   "execution_count": null,
   "metadata": {},
   "outputs": [],
   "source": []
  }
 ],
 "metadata": {
  "kernelspec": {
   "display_name": "Python 3",
   "language": "python",
   "name": "python3"
  },
  "language_info": {
   "codemirror_mode": {
    "name": "ipython",
    "version": 3
   },
   "file_extension": ".py",
   "mimetype": "text/x-python",
   "name": "python",
   "nbconvert_exporter": "python",
   "pygments_lexer": "ipython3",
   "version": "3.7.4"
  }
 },
 "nbformat": 4,
 "nbformat_minor": 2
}
