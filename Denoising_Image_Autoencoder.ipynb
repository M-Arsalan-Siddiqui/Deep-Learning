{
 "cells": [
  {
   "cell_type": "code",
   "execution_count": 1,
   "metadata": {},
   "outputs": [],
   "source": [
    "import numpy as np\n",
    "import keras\n",
    "from keras.datasets import mnist\n",
    "from keras.models import Sequential, Model\n",
    "from keras.layers import *\n",
    "from keras import optimizers\n",
    "from keras.optimizers import Adam\n"
   ]
  },
  {
   "cell_type": "code",
   "execution_count": 2,
   "metadata": {},
   "outputs": [],
   "source": [
    "(x_train, y_train), (x_test, y_test) = mnist.load_data()\n",
    "train_x = x_train.reshape(60000, 784) / 255\n",
    "val_x = x_test.reshape(10000, 784) / 255"
   ]
  },
  {
   "cell_type": "code",
   "execution_count": 3,
   "metadata": {},
   "outputs": [
    {
     "name": "stdout",
     "output_type": "stream",
     "text": [
      "Epoch 1/10\n",
      "59/59 [==============================] - 7s 114ms/step - loss: 0.0773 - val_loss: 0.0505\n",
      "Epoch 2/10\n",
      "59/59 [==============================] - 6s 98ms/step - loss: 0.0432 - val_loss: 0.0368\n",
      "Epoch 3/10\n",
      "59/59 [==============================] - 6s 99ms/step - loss: 0.0335 - val_loss: 0.0295\n",
      "Epoch 4/10\n",
      "59/59 [==============================] - 6s 101ms/step - loss: 0.0280 - val_loss: 0.0259: 0.02\n",
      "Epoch 5/10\n",
      "59/59 [==============================] - 5s 89ms/step - loss: 0.0253 - val_loss: 0.0239\n",
      "Epoch 6/10\n",
      "59/59 [==============================] - 5s 92ms/step - loss: 0.0237 - val_loss: 0.0225\n",
      "Epoch 7/10\n",
      "59/59 [==============================] - 6s 98ms/step - loss: 0.0224 - val_loss: 0.0215\n",
      "Epoch 8/10\n",
      "59/59 [==============================] - 6s 97ms/step - loss: 0.0214 - val_loss: 0.0206\n",
      "Epoch 9/10\n",
      "59/59 [==============================] - 6s 95ms/step - loss: 0.0206 - val_loss: 0.0200\n",
      "Epoch 10/10\n",
      "59/59 [==============================] - 5s 91ms/step - loss: 0.0199 - val_loss: 0.0193\n"
     ]
    }
   ],
   "source": [
    "autoencoder = Sequential()\n",
    "autoencoder.add(Dense(512,  activation='elu', input_shape=(784,)))\n",
    "autoencoder.add(Dense(128,  activation='elu'))\n",
    "autoencoder.add(Dense(10,    activation='linear', name=\"bottleneck\"))\n",
    "autoencoder.add(Dense(128,  activation='elu'))\n",
    "autoencoder.add(Dense(512,  activation='elu'))\n",
    "autoencoder.add(Dense(784,  activation='sigmoid'))\n",
    "autoencoder.compile(loss='mean_squared_error', optimizer = Adam())\n",
    "trained_model = autoencoder.fit(train_x, train_x, batch_size=1024, epochs=10, verbose=1, validation_data=(val_x, val_x))\n",
    "encoder = Model(autoencoder.input, autoencoder.get_layer('bottleneck').output)\n",
    "encoded_data = encoder.predict(train_x)  # bottleneck representation\n",
    "decoded_output = autoencoder.predict(train_x)        # reconstruction\n",
    "encoding_dim = 10"
   ]
  },
  {
   "cell_type": "code",
   "execution_count": 4,
   "metadata": {},
   "outputs": [],
   "source": [
    "# return the decoder\n",
    "encoded_input = Input(shape=(encoding_dim,))\n",
    "decoder = autoencoder.layers[-3](encoded_input)\n",
    "decoder = autoencoder.layers[-2](decoder)\n",
    "decoder = autoencoder.layers[-1](decoder)\n",
    "decoder = Model(encoded_input, decoder)"
   ]
  },
  {
   "cell_type": "code",
   "execution_count": 5,
   "metadata": {},
   "outputs": [
    {
     "name": "stdout",
     "output_type": "stream",
     "text": [
      "[1967.9967]\n"
     ]
    }
   ],
   "source": [
    "%matplotlib inline\n",
    "from keras.preprocessing import image\n",
    "# if the img.png is not one of the MNIST dataset that the model was trained on, the error will be very high.\n",
    "img = image.load_img (\"img.jpeg\", target_size=(28, 28),color_mode = \"grayscale\")\n",
    "input_img = image.img_to_array(img)\n",
    "inputs = input_img.reshape(1,784)\n",
    "target_data = autoencoder.predict(inputs)\n",
    "dist = np.linalg.norm(inputs - target_data, axis=-1)\n",
    "print(dist)"
   ]
  },
  {
   "cell_type": "code",
   "execution_count": 6,
   "metadata": {},
   "outputs": [
    {
     "data": {
      "text/plain": [
       "<matplotlib.image.AxesImage at 0x257184dc348>"
      ]
     },
     "execution_count": 6,
     "metadata": {},
     "output_type": "execute_result"
    },
    {
     "data": {
      "image/png": "[encoded data removed]",
      "text/plain": [
       "<Figure size 432x288 with 1 Axes>"
      ]
     },
     "metadata": {
      "needs_background": "light"
     },
     "output_type": "display_data"
    }
   ],
   "source": [
    "# The code below is from the Keras Blogs\n",
    "# https://blog.keras.io/building-autoencoders-in-keras.html\n",
    "import matplotlib.pyplot as plt\n",
    "noise_factor = 0.5\n",
    "x_train_noisy = x_train + noise_factor * np.random.normal(loc=0.0, scale=1.0, size=x_train.shape) \n",
    "x_test_noisy = x_test + noise_factor * np.random.normal(loc=0.0, scale=1.0, size=x_test.shape) \n",
    "\n",
    "x_train_noisy = np.clip(x_train_noisy, 0., 1.)\n",
    "x_test_noisy = np.clip(x_test_noisy, 0., 1.)\n",
    "\n",
    "#Print one image to see the noise\n",
    "plt.imshow(x_test_noisy[1].reshape(28, 28))"
   ]
  },
  {
   "cell_type": "code",
   "execution_count": 7,
   "metadata": {},
   "outputs": [],
   "source": [
    "input_img = Input(shape=(28, 28, 1))\n",
    "\n",
    "nn = Conv2D(32, (3, 3), activation='relu', padding='same')(input_img)\n",
    "nn = MaxPooling2D((2, 2), padding='same')(nn)\n",
    "nn = Conv2D(32, (3, 3), activation='relu', padding='same')(nn)\n",
    "encoded = MaxPooling2D((2, 2), padding='same')(nn)"
   ]
  },
  {
   "cell_type": "code",
   "execution_count": 8,
   "metadata": {},
   "outputs": [],
   "source": [
    "nn = Conv2D(32, (3, 3), activation='relu', padding='same')(encoded)\n",
    "nn = UpSampling2D((2, 2))(nn)\n",
    "nn = Conv2D(32, (3, 3), activation='relu', padding='same')(nn)\n",
    "nn = UpSampling2D((2, 2))(nn)\n",
    "decoded = Conv2D(1, (3, 3), activation='sigmoid', padding='same')(nn)"
   ]
  },
  {
   "cell_type": "code",
   "execution_count": null,
   "metadata": {},
   "outputs": [
    {
     "name": "stdout",
     "output_type": "stream",
     "text": [
      "Epoch 1/4\n",
      "200/200 [==============================] - 116s 581ms/step - loss: -501.8015 - val_loss: -510.9551\n",
      "Epoch 2/4\n",
      "200/200 [==============================] - 123s 613ms/step - loss: -503.7586 - val_loss: -511.0121\n",
      "Epoch 3/4\n",
      "200/200 [==============================] - 119s 593ms/step - loss: -503.7986 - val_loss: -511.0468\n",
      "Epoch 4/4\n",
      "132/200 [==================>...........] - ETA: 38s - loss: -503.4280"
     ]
    }
   ],
   "source": [
    "autoencoder = Model(input_img, decoded)\n",
    "autoencoder.compile(optimizer='adam',loss='binary_crossentropy')\n",
    "autoencoder.fit(x_train_noisy, x_train,\n",
    "                epochs=4,\n",
    "                batch_size=300,\n",
    "                validation_data=(x_test_noisy, x_test))"
   ]
  },
  {
   "cell_type": "code",
   "execution_count": null,
   "metadata": {},
   "outputs": [],
   "source": [
    "plt.imshow(x_train_noisy[1])"
   ]
  },
  {
   "cell_type": "code",
   "execution_count": null,
   "metadata": {},
   "outputs": [],
   "source": [
    "result=autoencoder.predict(x_train_noisy[1].reshape(1,28,28,1))"
   ]
  },
  {
   "cell_type": "code",
   "execution_count": null,
   "metadata": {},
   "outputs": [],
   "source": [
    "plt.imshow(result.reshape(28,28))"
   ]
  },
  {
   "cell_type": "code",
   "execution_count": null,
   "metadata": {},
   "outputs": [],
   "source": []
  }
 ],
 "metadata": {
  "kernelspec": {
   "display_name": "Python 3",
   "language": "python",
   "name": "python3"
  },
  "language_info": {
   "codemirror_mode": {
    "name": "ipython",
    "version": 3
   },
   "file_extension": ".py",
   "mimetype": "text/x-python",
   "name": "python",
   "nbconvert_exporter": "python",
   "pygments_lexer": "ipython3",
   "version": "3.7.6"
  }
 },
 "nbformat": 4,
 "nbformat_minor": 4
}
